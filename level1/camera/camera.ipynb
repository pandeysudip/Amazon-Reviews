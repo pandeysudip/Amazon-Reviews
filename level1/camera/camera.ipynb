{
 "cells": [
  {
   "cell_type": "code",
   "execution_count": 20,
   "metadata": {
    "id": "CLdL7PfoiNvq"
   },
   "outputs": [],
   "source": [
    "import os\n",
    "# Find the latest version of spark 3.0  from http://www.apache.org/dist/spark/ and enter as the spark version\n",
    "# For example:\n",
    "# spark_version = 'spark-3.0.3'\n",
    "spark_version = 'spark-3.0.3'\n",
    "os.environ['SPARK_VERSION']=spark_version\n",
    "\n",
    "# Install Spark and Java\n",
    "!apt-get update\n",
    "!apt-get install openjdk-8-jdk-headless -qq > /dev/null\n",
    "!wget -q http://www.apache.org/dist/spark/$SPARK_VERSION/$SPARK_VERSION-bin-hadoop2.7.tgz\n",
    "!tar xf $SPARK_VERSION-bin-hadoop2.7.tgz\n",
    "!pip install -q findspark\n",
    "\n",
    "# Set Environment Variables\n",
    "os.environ[\"JAVA_HOME\"] = \"/usr/lib/jvm/java-8-openjdk-amd64\"\n",
    "os.environ[\"SPARK_HOME\"] = f\"/content/{spark_version}-bin-hadoop2.7\"\n",
    "\n",
    "# Start a SparkSession\n",
    "import findspark\n",
    "findspark.init()"
   ]
  },
  {
   "cell_type": "code",
   "execution_count": 2,
   "metadata": {
    "colab": {
     "base_uri": "https://localhost:8080/"
    },
    "id": "UKrcTheWklvM",
    "outputId": "c72bb579-af9b-4028-ea56-d9c6c46f944e"
   },
   "outputs": [
    {
     "name": "stdout",
     "output_type": "stream",
     "text": [
      "--2022-02-02 18:14:10--  https://jdbc.postgresql.org/download/postgresql-42.2.9.jar\n",
      "Resolving jdbc.postgresql.org (jdbc.postgresql.org)... 72.32.157.228, 2001:4800:3e1:1::228\n",
      "Connecting to jdbc.postgresql.org (jdbc.postgresql.org)|72.32.157.228|:443... connected.\n",
      "HTTP request sent, awaiting response... 200 OK\n",
      "Length: 914037 (893K) [application/java-archive]\n",
      "Saving to: ‘postgresql-42.2.9.jar’\n",
      "\n",
      "postgresql-42.2.9.j 100%[===================>] 892.61K  --.-KB/s    in 0.08s   \n",
      "\n",
      "2022-02-02 18:14:10 (10.4 MB/s) - ‘postgresql-42.2.9.jar’ saved [914037/914037]\n",
      "\n"
     ]
    }
   ],
   "source": [
    "!wget https://jdbc.postgresql.org/download/postgresql-42.2.9.jar"
   ]
  },
  {
   "cell_type": "code",
   "execution_count": null,
   "metadata": {
    "id": "OePaxP9zvnPW"
   },
   "outputs": [],
   "source": []
  },
  {
   "cell_type": "code",
   "execution_count": 3,
   "metadata": {
    "id": "-Ko0RdRwovkz"
   },
   "outputs": [],
   "source": [
    "from pyspark.sql import SparkSession\n",
    "spark = SparkSession.builder.appName(\"amazon\").config(\"spark.driver.extraClassPath\",\"/content/postgresql-42.2.9.jar\").getOrCreate()"
   ]
  },
  {
   "cell_type": "code",
   "execution_count": 4,
   "metadata": {
    "id": "QrN2Gk4_ovoP"
   },
   "outputs": [],
   "source": [
    " # Read in data from S3 Buckets\n",
    "from pyspark import SparkFiles\n",
    "# loading data from S3 \n",
    "url=\"https://s3.amazonaws.com/amazon-reviews-pds/tsv/amazon_reviews_us_Camera_v1_00.tsv.gz\"\n",
    "spark.sparkContext.addFile(url)"
   ]
  },
  {
   "cell_type": "code",
   "execution_count": 5,
   "metadata": {
    "colab": {
     "base_uri": "https://localhost:8080/"
    },
    "id": "vvLzAILYovtg",
    "outputId": "2fa89875-5cd9-4508-fb47-c437a7ad05f5"
   },
   "outputs": [
    {
     "name": "stdout",
     "output_type": "stream",
     "text": [
      "+-----------+-----------+--------------+----------+--------------+--------------------+----------------+-----------+-------------+-----------+----+-----------------+--------------------+--------------------+-----------+\n",
      "|marketplace|customer_id|     review_id|product_id|product_parent|       product_title|product_category|star_rating|helpful_votes|total_votes|vine|verified_purchase|     review_headline|         review_body|review_date|\n",
      "+-----------+-----------+--------------+----------+--------------+--------------------+----------------+-----------+-------------+-----------+----+-----------------+--------------------+--------------------+-----------+\n",
      "|         US|    2975964|R1NBG94582SJE2|B00I01JQJM|     860486164|GoPro Rechargeabl...|          Camera|          5|            0|          0|   N|                Y|          Five Stars|                  ok| 2015-08-31|\n",
      "|         US|   23526356|R273DCA6Y0H9V7|B00TCO0ZAA|     292641483|Professional 58mm...|          Camera|          5|            0|          0|   N|                Y|          Love it!!!|Perfect, even stu...| 2015-08-31|\n",
      "|         US|   52764145| RQVOXO7WUOFK6|B00B7733E0|      75825744|Spy Tec Z12 Motio...|          Camera|          2|            1|          1|   N|                Y|Another Motion De...|If the words, &#3...| 2015-08-31|\n",
      "|         US|   47348933|R1KWKSF21PO6HO|B006ZN4U34|     789352955|Celestron UpClose...|          Camera|          5|            0|          0|   N|                Y|Exactly what I wa...|Exactly what I wa...| 2015-08-31|\n",
      "|         US|   33680700|R38H3UO1J190GI|B00HUEBGMU|      19067902|Vidpro XM-L Wired...|          Camera|          5|            1|          1|   N|                Y|Good mic at a Goo...|I will look past ...| 2015-08-31|\n",
      "|         US|   30301059|R3NPIFKLR19NQA|B008MW6Y12|     597683407|NIX 8 inch Hi-Res...|          Camera|          3|            0|          0|   N|                Y|The controls are ...|The controls are ...| 2015-08-31|\n",
      "|         US|   28282645|R3MBE6UCH3435E|B00TE8XKIS|      35563334|Polaroid ZIP Mobi...|          Camera|          3|            8|          8|   N|                N|Fun toy for makin...|The printer came ...| 2015-08-31|\n",
      "|         US|     502818|R2E7A4FF0PVY5Q|B00ZKDUFBQ|     555190742|GeekPro 2.0-Inch ...|          Camera|          5|            0|          1|   N|                Y|          Five Stars|Great camera for ...| 2015-08-31|\n",
      "|         US|    1481233| R3R8JDQ2BF4NM|B010BZ7S2Q|     129544315|Sony HDR-AZ1VR Ac...|          Camera|          5|            0|          2|   N|                Y|          Five Stars|Product is very g...| 2015-08-31|\n",
      "|         US|   27885926|R1YND4BS823GN5|B00HRXSSRA|     708418657|ChiliPower DMW-BL...|          Camera|          1|            0|          0|   N|                Y|              Sucky.|Lasted a few hour...| 2015-08-31|\n",
      "|         US|    3183883|R2TZNSA18V7YF6|B005C95NM4|     246957815|Zeikos Deluxe Fla...|          Camera|          4|            1|          1|   N|                Y|Hand Hold Bracket...|I needed the flas...| 2015-08-31|\n",
      "|         US|   23208852|R22ZVRDPPXIDNL|B00LBIBYBE|     746593019|  GoPro Hero Filters|          Camera|          5|            0|          0|   N|                Y|          Five Stars|Use these all the...| 2015-08-31|\n",
      "|         US|   11438825|R1F4O6WOO2W461|B00X3HIM2U|     444991975|Neewer Meike MK-X...|          Camera|          3|            3|          3|   N|                Y|Can't grip the ba...|Same issue as oth...| 2015-08-31|\n",
      "|         US|   50399582| RT1KLS3QSJNUT|B00KDVQF8W|     304104050|LB Photography Ba...|          Camera|          5|            4|          4|   N|                Y|Super pleased wit...|Super pleased wit...| 2015-08-31|\n",
      "|         US|   36700181|R222VYJL5K5IRS|B00GUZEZL4|     472875794|Waterproof Camera...|          Camera|          5|            0|          0|   N|                Y|    Excellent value!|These float wrist...| 2015-08-31|\n",
      "|         US|   47818374|R31LUR7M4PQOLU|B00FB1TBKS|     710827451|Ecolink Z-Wave PI...|          Camera|          5|            0|          0|   N|                Y|       great product|very good on batt...| 2015-08-31|\n",
      "|         US|   35272750|R1OD3T3Q042LUQ|B00GVMLPT6|     269896170|FotoTech Male to ...|          Camera|          2|            0|          0|   N|                Y|           Two Stars|im not happy, the...| 2015-08-31|\n",
      "|         US|   11736306|R2QT68OZTT2YKE|B00L8827BI|     145946775|Nikon D3200 Ultim...|          Camera|          5|            0|          0|   N|                Y|          Five Stars|It is a very good...| 2015-08-31|\n",
      "|         US|   52377008| RMFQF59FG3TD1|B00SIM78R0|     972011051|D-Link Wireless D...|          Camera|          4|            0|          0|   N|                Y|Nice camera, not ...|Nice camera for t...| 2015-08-31|\n",
      "|         US|    6465510|R1QNYFW6G31R5T|B00EDCZKJ2|     258297575|ZINK Phone Photo ...|          Camera|          1|            1|          3|   N|                N|        Never Agian.|If I could leave ...| 2015-08-31|\n",
      "+-----------+-----------+--------------+----------+--------------+--------------------+----------------+-----------+-------------+-----------+----+-----------------+--------------------+--------------------+-----------+\n",
      "only showing top 20 rows\n",
      "\n"
     ]
    }
   ],
   "source": [
    "#read csv with spark\n",
    "camera_df = spark.read.option('header', 'true').csv(SparkFiles.get(\"amazon_reviews_us_Camera_v1_00.tsv.gz\"), sep=\"\\t\", timestampFormat=\"yyyy/mm/dd\", inferSchema=True)\n",
    "\n",
    "# Show DataFrame\n",
    "camera_df.show()"
   ]
  },
  {
   "cell_type": "code",
   "execution_count": 8,
   "metadata": {
    "colab": {
     "base_uri": "https://localhost:8080/"
    },
    "id": "chBMq6mlrfMV",
    "outputId": "792b65ca-c331-4119-ffa1-925f2debed1e"
   },
   "outputs": [
    {
     "name": "stdout",
     "output_type": "stream",
     "text": [
      "root\n",
      " |-- marketplace: string (nullable = true)\n",
      " |-- customer_id: integer (nullable = true)\n",
      " |-- review_id: string (nullable = true)\n",
      " |-- product_id: string (nullable = true)\n",
      " |-- product_parent: integer (nullable = true)\n",
      " |-- product_title: string (nullable = true)\n",
      " |-- product_category: string (nullable = true)\n",
      " |-- star_rating: integer (nullable = true)\n",
      " |-- helpful_votes: integer (nullable = true)\n",
      " |-- total_votes: integer (nullable = true)\n",
      " |-- vine: string (nullable = true)\n",
      " |-- verified_purchase: string (nullable = true)\n",
      " |-- review_headline: string (nullable = true)\n",
      " |-- review_body: string (nullable = true)\n",
      " |-- review_date: string (nullable = true)\n",
      "\n"
     ]
    }
   ],
   "source": [
    "camera_df.printSchema()"
   ]
  },
  {
   "cell_type": "code",
   "execution_count": 9,
   "metadata": {
    "colab": {
     "base_uri": "https://localhost:8080/"
    },
    "id": "wLRtdfYnq-vV",
    "outputId": "8898bf45-f077-47d9-8edf-4b29688382b6"
   },
   "outputs": [
    {
     "name": "stdout",
     "output_type": "stream",
     "text": [
      "1801974\n",
      "1801849\n"
     ]
    }
   ],
   "source": [
    " # Drop null values\n",
    "print(camera_df.count())\n",
    "dropna_df = camera_df.dropna()\n",
    "\n",
    "print(dropna_df.count())\n"
   ]
  },
  {
   "cell_type": "code",
   "execution_count": 16,
   "metadata": {
    "colab": {
     "base_uri": "https://localhost:8080/"
    },
    "id": "GS0TiMrakvyk",
    "outputId": "3f049c48-a000-42c6-d316-ba95b4a19902"
   },
   "outputs": [
    {
     "name": "stdout",
     "output_type": "stream",
     "text": [
      "+-----------+-----------+--------------+----------+--------------+--------------------+----------------+-----------+-------------+-----------+----+-----------------+--------------------+--------------------+-----------+\n",
      "|marketplace|customer_id|     review_id|product_id|product_parent|       product_title|product_category|star_rating|helpful_votes|total_votes|vine|verified_purchase|     review_headline|         review_body|review_date|\n",
      "+-----------+-----------+--------------+----------+--------------+--------------------+----------------+-----------+-------------+-----------+----+-----------------+--------------------+--------------------+-----------+\n",
      "|         US|    2975964|R1NBG94582SJE2|B00I01JQJM|     860486164|GoPro Rechargeabl...|          Camera|          5|            0|          0|   N|                Y|          Five Stars|                  ok| 2015-08-31|\n",
      "|         US|   23526356|R273DCA6Y0H9V7|B00TCO0ZAA|     292641483|Professional 58mm...|          Camera|          5|            0|          0|   N|                Y|          Love it!!!|Perfect, even stu...| 2015-08-31|\n",
      "|         US|   52764145| RQVOXO7WUOFK6|B00B7733E0|      75825744|Spy Tec Z12 Motio...|          Camera|          2|            1|          1|   N|                Y|Another Motion De...|If the words, &#3...| 2015-08-31|\n",
      "|         US|   47348933|R1KWKSF21PO6HO|B006ZN4U34|     789352955|Celestron UpClose...|          Camera|          5|            0|          0|   N|                Y|Exactly what I wa...|Exactly what I wa...| 2015-08-31|\n",
      "|         US|   33680700|R38H3UO1J190GI|B00HUEBGMU|      19067902|Vidpro XM-L Wired...|          Camera|          5|            1|          1|   N|                Y|Good mic at a Goo...|I will look past ...| 2015-08-31|\n",
      "|         US|   30301059|R3NPIFKLR19NQA|B008MW6Y12|     597683407|NIX 8 inch Hi-Res...|          Camera|          3|            0|          0|   N|                Y|The controls are ...|The controls are ...| 2015-08-31|\n",
      "|         US|     502818|R2E7A4FF0PVY5Q|B00ZKDUFBQ|     555190742|GeekPro 2.0-Inch ...|          Camera|          5|            0|          1|   N|                Y|          Five Stars|Great camera for ...| 2015-08-31|\n",
      "|         US|    1481233| R3R8JDQ2BF4NM|B010BZ7S2Q|     129544315|Sony HDR-AZ1VR Ac...|          Camera|          5|            0|          2|   N|                Y|          Five Stars|Product is very g...| 2015-08-31|\n",
      "|         US|   27885926|R1YND4BS823GN5|B00HRXSSRA|     708418657|ChiliPower DMW-BL...|          Camera|          1|            0|          0|   N|                Y|              Sucky.|Lasted a few hour...| 2015-08-31|\n",
      "|         US|    3183883|R2TZNSA18V7YF6|B005C95NM4|     246957815|Zeikos Deluxe Fla...|          Camera|          4|            1|          1|   N|                Y|Hand Hold Bracket...|I needed the flas...| 2015-08-31|\n",
      "|         US|   23208852|R22ZVRDPPXIDNL|B00LBIBYBE|     746593019|  GoPro Hero Filters|          Camera|          5|            0|          0|   N|                Y|          Five Stars|Use these all the...| 2015-08-31|\n",
      "|         US|   11438825|R1F4O6WOO2W461|B00X3HIM2U|     444991975|Neewer Meike MK-X...|          Camera|          3|            3|          3|   N|                Y|Can't grip the ba...|Same issue as oth...| 2015-08-31|\n",
      "|         US|   50399582| RT1KLS3QSJNUT|B00KDVQF8W|     304104050|LB Photography Ba...|          Camera|          5|            4|          4|   N|                Y|Super pleased wit...|Super pleased wit...| 2015-08-31|\n",
      "|         US|   36700181|R222VYJL5K5IRS|B00GUZEZL4|     472875794|Waterproof Camera...|          Camera|          5|            0|          0|   N|                Y|    Excellent value!|These float wrist...| 2015-08-31|\n",
      "|         US|   47818374|R31LUR7M4PQOLU|B00FB1TBKS|     710827451|Ecolink Z-Wave PI...|          Camera|          5|            0|          0|   N|                Y|       great product|very good on batt...| 2015-08-31|\n",
      "|         US|   35272750|R1OD3T3Q042LUQ|B00GVMLPT6|     269896170|FotoTech Male to ...|          Camera|          2|            0|          0|   N|                Y|           Two Stars|im not happy, the...| 2015-08-31|\n",
      "|         US|   11736306|R2QT68OZTT2YKE|B00L8827BI|     145946775|Nikon D3200 Ultim...|          Camera|          5|            0|          0|   N|                Y|          Five Stars|It is a very good...| 2015-08-31|\n",
      "|         US|   52377008| RMFQF59FG3TD1|B00SIM78R0|     972011051|D-Link Wireless D...|          Camera|          4|            0|          0|   N|                Y|Nice camera, not ...|Nice camera for t...| 2015-08-31|\n",
      "|         US|   16433265| REL0JGGHPWA2H|B008SFPMRK|     276036334|Wasabi Power Batt...|          Camera|          4|            0|          1|   N|                Y|Good batteries an...|This recharges ba...| 2015-08-31|\n",
      "|         US|   11402392| RA77423YFRUVF|B00XZGBW44|     236367800|Sricam SP720 Plug...|          Camera|          1|            0|          0|   N|                Y|                 BAD|Not usable due to...| 2015-08-31|\n",
      "+-----------+-----------+--------------+----------+--------------+--------------------+----------------+-----------+-------------+-----------+----+-----------------+--------------------+--------------------+-----------+\n",
      "only showing top 20 rows\n",
      "\n"
     ]
    }
   ],
   "source": [
    "# Load in a sql function to use columns\n",
    "from pyspark.sql.functions import col\n",
    "\n",
    "# Filter for only columns with active users\n",
    "cleaned_df = dropna_df.filter(col(\"verified_purchase\")  == True)\n",
    "cleaned_df.show()"
   ]
  },
  {
   "cell_type": "code",
   "execution_count": 19,
   "metadata": {
    "colab": {
     "base_uri": "https://localhost:8080/"
    },
    "id": "_kE07knjvHO7",
    "outputId": "7a4b0e86-15fc-4122-8c9e-8977105a6d75"
   },
   "outputs": [
    {
     "name": "stdout",
     "output_type": "stream",
     "text": [
      "+----------+--------------------+\n",
      "|product_id|       product_title|\n",
      "+----------+--------------------+\n",
      "|B00L9ZF5BY|Flylinktech Actio...|\n",
      "|B00017LSF8|B+W Clear UV Haze...|\n",
      "|B00CGTN2N0|Queen Spy Mini U8...|\n",
      "|B002POMZWU|Usb cable for kod...|\n",
      "|B00FEY2BCW|Camera Case Eveca...|\n",
      "|B004OUMTT2|Celestron PowerSe...|\n",
      "|B004HY3XOA|58MM UV Lens Filt...|\n",
      "|B00LBFKLRU|(Create a generic...|\n",
      "|B007QXZ6D0|Vello Cinch Strap...|\n",
      "|B00PG36JTW|Tamrac TEK Fitted...|\n",
      "|B003JNJDGM|TTL Off Camera Sh...|\n",
      "|B00ZYATKCA|Olympus Air Mirro...|\n",
      "|B00VQJASPG|    Canon SL1 Bundle|\n",
      "|B00554PCDG|Pixel Flash Hot S...|\n",
      "|B00006JPWW|Panasonic AY-DVMC...|\n",
      "|B00B9Z23NM|Nikon 8250 ACULON...|\n",
      "|B00GOJ7JGY|Fotasy HET63 Lens...|\n",
      "|B00IUU22WG|White Photography...|\n",
      "|B004LVYLE0|Nikon 28mm f/2.8 ...|\n",
      "|B0076UXKDG|Nikon MB-D12 Mult...|\n",
      "+----------+--------------------+\n",
      "only showing top 20 rows\n",
      "\n"
     ]
    }
   ],
   "source": [
    "products_df = cleaned_df.select(['product_id','product_title']).distinct()\n",
    "products_df.show(20)"
   ]
  },
  {
   "cell_type": "code",
   "execution_count": 11,
   "metadata": {
    "colab": {
     "base_uri": "https://localhost:8080/"
    },
    "id": "YrDPRrQtrc8N",
    "outputId": "0a8461f9-d909-4a4a-893e-d70626110c0d"
   },
   "outputs": [
    {
     "name": "stdout",
     "output_type": "stream",
     "text": [
      "+-----------+-----------+--------------+----------+--------------+--------------------+----------------+-----------+-------------+-----------+----+-----------------+--------------------+--------------------+-----------+\n",
      "|marketplace|customer_id|     review_id|product_id|product_parent|       product_title|product_category|star_rating|helpful_votes|total_votes|vine|verified_purchase|     review_headline|         review_body|review_date|\n",
      "+-----------+-----------+--------------+----------+--------------+--------------------+----------------+-----------+-------------+-----------+----+-----------------+--------------------+--------------------+-----------+\n",
      "|         US|    2975964|R1NBG94582SJE2|B00I01JQJM|     860486164|GoPro Rechargeabl...|          Camera|          5|            0|          0|   N|                Y|          Five Stars|                  ok| 2015-08-31|\n",
      "|         US|   23208852|R22ZVRDPPXIDNL|B00LBIBYBE|     746593019|  GoPro Hero Filters|          Camera|          5|            0|          0|   N|                Y|          Five Stars|Use these all the...| 2015-08-31|\n",
      "|         US|   36700181|R222VYJL5K5IRS|B00GUZEZL4|     472875794|Waterproof Camera...|          Camera|          5|            0|          0|   N|                Y|    Excellent value!|These float wrist...| 2015-08-31|\n",
      "|         US|   35386096| RVWGBVMVBOL0F|B00JTE50US|     472875794|Waterproof Camera...|          Camera|          5|            0|          0|   N|                Y|A Must Have For W...|I purchased this ...| 2015-08-31|\n",
      "|         US|   12354360|R1ZXEDXFCLXZPO|B00KCX8H6E|       4252165|GoPro 3-Way Grip,...|          Camera|          5|            0|          0|   N|                Y|          Five Stars|Great product, ve...| 2015-08-31|\n",
      "|         US|   10382518|R2SJQH4I9C65WZ|B00RRD1IFO|     106068505|WoCase GoPro Fram...|          Camera|          5|            0|          0|   N|                Y|          Five Stars|   Good as described| 2015-08-31|\n",
      "|         US|   12944057|R20IF1VPP1YLTY|B00R4YCKIK|     131870378|AmazonBasics Head...|          Camera|          5|            0|          0|   N|                Y|Would buy again n...|Love this! Took i...| 2015-08-31|\n",
      "|         US|   12516845| RUQJUB5NJFEEQ|B00F19PYR4|     223800886|GoPro Head Strap ...|          Camera|          5|            0|          0|   N|                Y|          Five Stars|             love it| 2015-08-31|\n",
      "|         US|    3966092|R3QJJOSZO27550|B00VBO0BNU|     807348649|BAXIA TECHNOLOGY ...|          Camera|          5|            0|          0|   N|                Y|          Five Stars|                 ok.| 2015-08-31|\n",
      "|         US|   24729307|R3MUE0NKB48DH5|B002PAX9QU|     680713300|GoPro Head Strap ...|          Camera|          5|            1|          1|   N|                Y|  LOVE this purchase|LOVE this purchas...| 2015-08-31|\n",
      "|         US|    1657424|R1R2V4G4Z74AOI|B00SXBORRK|     528966475|Sports Mount comp...|          Camera|          4|            0|          0|   N|                Y|but feels a littl...|fits on my shotgu...| 2015-08-31|\n",
      "|         US|    3164513|R1TSE04S9NJX2M|B009PK9UW0|     223800886|GoPro Head Strap ...|          Camera|          5|            1|          1|   N|                Y|Must for any Moto...|Great mount got t...| 2015-08-31|\n",
      "|         US|   46286210|R31YZATQ9K4G8M|B00B3YJG5C|     962860001|GoPole EVO 14-24-...|          Camera|          5|            0|          0|   N|                Y|        Awesome buy.|A great buy for o...| 2015-08-31|\n",
      "|         US|   12516845|R3MC00WMHTMQPG|B0025UEQQW|     258553989|GoPro Chest Mount...|          Camera|          5|            0|          0|   N|                Y|          Five Stars|             like it| 2015-08-31|\n",
      "|         US|   14692193| RDT4X46ZXHQ05|B00VJCILWC|     250239410|Erligpowht Basic ...|          Camera|          5|            0|          0|   N|                Y|          Five Stars|                  ok| 2015-08-31|\n",
      "|         US|   11746914|R2JXVRP47EZ3TX|B00Q4N886A|     337251324|Camera Accessory ...|          Camera|          5|            0|          0|   N|                Y|awesome film prot...|works nicely and ...| 2015-08-31|\n",
      "|         US|    1609987|R29LIXAK3E6M1F|B00Y1ZCQCK|     498684526|Accessories for G...|          Camera|          5|            0|          0|   N|                Y|          Five Stars|fast shipping wil...| 2015-08-31|\n",
      "|         US|   41172468|R16VRXNRCISZGQ|B00P62G952|     968700778|LCtech TM 3-Way A...|          Camera|          5|            0|          0|   N|                Y|Very nice product...|Very nice product...| 2015-08-31|\n",
      "|         US|   12944057|R2ETMSYB9YMPMA|B00U29B5AI|      48524302|SHINEDA telescopi...|          Camera|          5|            0|          1|   N|                Y|    2 thumbs way up.|Loved this! Took ...| 2015-08-31|\n",
      "|         US|   32241913| RK5L34EPY8YDE|B00OT7N2ZA|     597393831|Smatree 1290mAh R...|          Camera|          5|            0|          0|   N|                Y|Great purchase, f...|Great product! Ch...| 2015-08-31|\n",
      "+-----------+-----------+--------------+----------+--------------+--------------------+----------------+-----------+-------------+-----------+----+-----------------+--------------------+--------------------+-----------+\n",
      "only showing top 20 rows\n",
      "\n"
     ]
    }
   ],
   "source": [
    "# Create  dataframe for gopro \n",
    "gopro_df = cleaned_df.where(col('product_title').like(\"%GoPro%\"))\n",
    "gopro_df.show(5)"
   ]
  },
  {
   "cell_type": "code",
   "execution_count": 12,
   "metadata": {
    "colab": {
     "base_uri": "https://localhost:8080/"
    },
    "id": "aMjFoOpMp2Bp",
    "outputId": "adec8827-d10f-4e01-b865-51819986507d"
   },
   "outputs": [
    {
     "name": "stdout",
     "output_type": "stream",
     "text": [
      "+-----------+-----------+--------------+----------+--------------+--------------------+----------------+-----------+-------------+-----------+----+-----------------+--------------------+--------------------+-----------+\n",
      "|marketplace|customer_id|     review_id|product_id|product_parent|       product_title|product_category|star_rating|helpful_votes|total_votes|vine|verified_purchase|     review_headline|         review_body|review_date|\n",
      "+-----------+-----------+--------------+----------+--------------+--------------------+----------------+-----------+-------------+-----------+----+-----------------+--------------------+--------------------+-----------+\n",
      "|         US|    1481233| R3R8JDQ2BF4NM|B010BZ7S2Q|     129544315|Sony HDR-AZ1VR Ac...|          Camera|          5|            0|          2|   N|                Y|          Five Stars|Product is very g...| 2015-08-31|\n",
      "|         US|   36700181|R222VYJL5K5IRS|B00GUZEZL4|     472875794|Waterproof Camera...|          Camera|          5|            0|          0|   N|                Y|    Excellent value!|These float wrist...| 2015-08-31|\n",
      "|         US|   16433265| REL0JGGHPWA2H|B008SFPMRK|     276036334|Wasabi Power Batt...|          Camera|          4|            0|          1|   N|                Y|Good batteries an...|This recharges ba...| 2015-08-31|\n",
      "|         US|   35386096| RVWGBVMVBOL0F|B00JTE50US|     472875794|Waterproof Camera...|          Camera|          5|            0|          0|   N|                Y|A Must Have For W...|I purchased this ...| 2015-08-31|\n",
      "|         US|   18418407|R3QV173TQQMHU1|B004G1AOSM|     923516715|Fotodiox Pro Lens...|          Camera|          4|            0|          0|   N|                Y|... lenses the ma...|seems to attach c...| 2015-08-31|\n",
      "|         US|   10030674|R1X2N7T38ZJUNC|B0089JV88C|     886239557|eSecure ES185290 ...|          Camera|          2|            0|          0|   N|                Y|      Has distortion|Has a defect. A l...| 2015-08-31|\n",
      "|         US|   45676353|R10EP90CX0885Z|B00HV0FL5Q|     502225500|Four Halcyon Lith...|          Camera|          5|            0|          0|   N|                Y|excellent product...|excellent product...| 2015-08-31|\n",
      "|         US|   45676353| RN9CIA7I01F67|B00VAJTTJ8|     786071596|prost ® Motorcycl...|          Camera|          3|            1|          5|   N|                Y|haven't tried it ...|haven't tried it ...| 2015-08-31|\n",
      "|         US|   50599191|R1E4HY7KSU34G4|B00J275BUG|      74645220|Sony Action Cam H...|          Camera|          5|            0|          0|   N|                Y|    Wonderful films!|Used camera on a ...| 2015-08-31|\n",
      "|         US|   46909180|R3CNQ2PQCM2OW4|B0045JAP4I|     269401610|Wasabi Power AC P...|          Camera|          5|            0|          0|   N|                Y|      wasabi is hot.|A good replacemen...| 2015-08-31|\n",
      "|         US|   49877777| RSK69KLR5GJZO|B00HNJWUBI|      20076869|Sony 20.1 Digital...|          Camera|          5|            3|          3|   N|                Y| Great little camera|Just as described...| 2015-08-31|\n",
      "|         US|   12031482| R7PLTXCQOXE16|B00J59R95Q|     792542602|GGS Optical Glass...|          Camera|          5|            0|          0|   N|                Y|       Does the job.|Fits well and add...| 2015-08-31|\n",
      "|         US|   21782151|R17ETTA2FI1UJ5|B00SUWYDPS|     512107445|DevilCase Aluminu...|          Camera|          5|            1|          1|   N|                Y|This case is defi...|This case is defi...| 2015-08-31|\n",
      "|         US|   30739283|R190J2PDOZ5GVK|B00ZDWGFR2|     390090468|Sony a7R II Full-...|          Camera|          3|           36|         51|   N|                Y|Great camera, but...|Great camera, but...| 2015-08-31|\n",
      "|         US|    1830196| R4SUAUW45HE93|B001IMGEKE|      96314014|Charger for Sony ...|          Camera|          1|            0|          0|   N|                Y|       Do not buy!!!|Did not charge my...| 2015-08-31|\n",
      "|         US|   17924396|R2H7F77FGDE1CN|B004DWPCS6|     329849348|Battery + Charger...|          Camera|          1|            0|          0|   N|                Y|            One Star|The battery is br...| 2015-08-31|\n",
      "|         US|   12031482|R1XVYCAHL49ZOP|B00U29GNC8|      73093742|Sony SEL24240 FE ...|          Camera|          5|            2|          2|   N|                Y|          Great Lens|Great Lens for tr...| 2015-08-31|\n",
      "|         US|    2758679|R1PWKK7CJNB9BX|B00000JMO3|     113165848|Sony DCR-TRV103 2...|          Camera|          5|            1|          1|   N|                Y|Vendor was very r...|Works perfectly. ...| 2015-08-31|\n",
      "|         US|   18762198|R2ULZQV5IFD8KZ|B00KW2O9B2|     921520336|Neewer Photograph...|          Camera|          5|            0|          0|   N|                Y|          Five Stars|Awesome addition ...| 2015-08-31|\n",
      "|         US|   49980869|R2O28IEGFNTPV9|B00HLCXPMU|     811859082|Neewer Two-way 4\"...|          Camera|          5|            4|          4|   N|                Y|Great for balanci...|I bought the 2-wa...| 2015-08-31|\n",
      "+-----------+-----------+--------------+----------+--------------+--------------------+----------------+-----------+-------------+-----------+----+-----------------+--------------------+--------------------+-----------+\n",
      "only showing top 20 rows\n",
      "\n"
     ]
    }
   ],
   "source": [
    "# Create  dataframe for gopro \n",
    "sony_df = cleaned_df.where(col('product_title').like(\"%Sony%\"))\n",
    "sony_df.show(20)"
   ]
  },
  {
   "cell_type": "code",
   "execution_count": 13,
   "metadata": {
    "colab": {
     "base_uri": "https://localhost:8080/"
    },
    "id": "YrKeBLm2p2En",
    "outputId": "137b0460-0919-4df5-ec88-0094583905e2"
   },
   "outputs": [
    {
     "name": "stdout",
     "output_type": "stream",
     "text": [
      "+-----------+-----------+--------------+----------+--------------+--------------------+----------------+-----------+-------------+-----------+----+-----------------+--------------------+--------------------+-----------+\n",
      "|marketplace|customer_id|     review_id|product_id|product_parent|       product_title|product_category|star_rating|helpful_votes|total_votes|vine|verified_purchase|     review_headline|         review_body|review_date|\n",
      "+-----------+-----------+--------------+----------+--------------+--------------------+----------------+-----------+-------------+-----------+----+-----------------+--------------------+--------------------+-----------+\n",
      "|         US|   36700181|R222VYJL5K5IRS|B00GUZEZL4|     472875794|Waterproof Camera...|          Camera|          5|            0|          0|   N|                Y|    Excellent value!|These float wrist...| 2015-08-31|\n",
      "|         US|   35272750|R1OD3T3Q042LUQ|B00GVMLPT6|     269896170|FotoTech Male to ...|          Camera|          2|            0|          0|   N|                Y|           Two Stars|im not happy, the...| 2015-08-31|\n",
      "|         US|   11736306|R2QT68OZTT2YKE|B00L8827BI|     145946775|Nikon D3200 Ultim...|          Camera|          5|            0|          0|   N|                Y|          Five Stars|It is a very good...| 2015-08-31|\n",
      "|         US|   35386096| RVWGBVMVBOL0F|B00JTE50US|     472875794|Waterproof Camera...|          Camera|          5|            0|          0|   N|                Y|A Must Have For W...|I purchased this ...| 2015-08-31|\n",
      "|         US|   52859599|R12KFKM60SHKF2|B002GUF90I|     509362904|Nikon ML-L3 Remot...|          Camera|          1|            0|          0|   N|                Y|                 Dud|It never worked. ...| 2015-08-31|\n",
      "|         US|   13720995|R2GOZLUQNGKD6W|B00AXTQRAA|     658969176|Nikon D5200 Digit...|          Camera|          5|            0|          0|   N|                Y|This is a great c...|This is a great c...| 2015-08-31|\n",
      "|         US|   26680197|R1VJLCD0A5EJ9G|B00SW25AIA|     566474011|Nikon D7100 Digit...|          Camera|          5|            0|          0|   N|                Y|Camera and they w...|Camera was just a...| 2015-08-31|\n",
      "|         US|   43453766| RJESZP9LQGJ7D|B001DO2XWA|     897176077|Nikon 25780 EN-EL...|          Camera|          2|            0|          0|   N|                Y|warning! don't tr...|don't try to rech...| 2015-08-31|\n",
      "|         US|   24755112| RB1K8MBAIQ0Z7|B00HQWZ6UY|     424872875|Nikon Coolpix S28...|          Camera|          5|            0|          0|   N|                Y|          Five Stars|           Thank you| 2015-08-31|\n",
      "|         US|   18418407|R3QV173TQQMHU1|B004G1AOSM|     923516715|Fotodiox Pro Lens...|          Camera|          4|            0|          0|   N|                Y|... lenses the ma...|seems to attach c...| 2015-08-31|\n",
      "|         US|   45430663|R3FZ2O4QUYHKQ1|B007VGGIB6|     170089990|Nikon WU-1a Wirel...|          Camera|          4|            1|          1|   N|                Y|Otherwise it's aw...|When I used this,...| 2015-08-31|\n",
      "|         US|   39285411|R2IJY0CRI9RV0E|B000HJPK2C|     891378249|Nikon 70-300 mm f...|          Camera|          5|            0|          2|   N|                Y|          Five Stars|  Excellent product.| 2015-08-31|\n",
      "|         US|   14678185|R1FA0XH5XII5XV|B0036ORZE6|     814141580|Nikon Coolpix S80...|          Camera|          5|            0|          0|   N|                Y|Super deal on a g...|This is a superb ...| 2015-08-31|\n",
      "|         US|   52508763| RDQLCM6443LYR|B00IYY80JM|      16445737|High Capacity Rep...|          Camera|          5|            0|          0|   N|                Y|      Thanks, Amazon|These seem to wor...| 2015-08-31|\n",
      "|         US|   29315020| RHCB4C4IMW8CR|B00V03L78K|     119585421|Nikon D7200 2x Te...|          Camera|          5|            0|          0|   N|                Y|       Great bargain|Clear and crisp p...| 2015-08-31|\n",
      "|         US|   48363612| R6OHFC2MPYO2A|B00G9G76PQ|     912641055|Nikon ML-L3 Wirel...|          Camera|          5|            0|          0|   N|                Y| seamless operation!|Use it this past ...| 2015-08-31|\n",
      "|         US|   25025669|R267ET2EYVYHRR|B00J4C9WCC|     307996935|MaxLLTo&trade; US...|          Camera|          5|            0|          0|   N|                Y|          Five Stars|Fast delivery and...| 2015-08-31|\n",
      "|         US|     263426|R1M3NFQGZ2849P|B00SX4S804|     615667305|Nikon COOLPIX S36...|          Camera|          4|            0|          0|   N|                Y|          Four Stars| Happy with this buy| 2015-08-31|\n",
      "|         US|   14789795|R1ELT5L9THAJOK|B0017W70JE|     512655363|Opteka .35x HD Su...|          Camera|          1|            1|          2|   N|                Y|You'll get better...|Sent back immedia...| 2015-08-31|\n",
      "|         US|   14620911| RNXWUBOWUBXPC|B00UAISDGK|     658414552|Andoer Godox FT-1...|          Camera|          4|            0|          0|   N|                Y|nice price, seems...|works as advertis...| 2015-08-31|\n",
      "+-----------+-----------+--------------+----------+--------------+--------------------+----------------+-----------+-------------+-----------+----+-----------------+--------------------+--------------------+-----------+\n",
      "only showing top 20 rows\n",
      "\n"
     ]
    }
   ],
   "source": [
    "# Create  dataframe for gopro \n",
    "nikon_df = cleaned_df.where(col('product_title').like(\"%Nikon%\"))\n",
    "nikon_df.show(20)"
   ]
  },
  {
   "cell_type": "code",
   "execution_count": 14,
   "metadata": {
    "colab": {
     "base_uri": "https://localhost:8080/"
    },
    "id": "zbZIdQ0etHFN",
    "outputId": "d81af808-5f28-4a1a-ad97-7f92e5ffaa8a"
   },
   "outputs": [
    {
     "name": "stdout",
     "output_type": "stream",
     "text": [
      "+-----------+-----------+--------------+----------+--------------+--------------------+----------------+-----------+-------------+-----------+----+-----------------+--------------------+--------------------+-----------+\n",
      "|marketplace|customer_id|     review_id|product_id|product_parent|       product_title|product_category|star_rating|helpful_votes|total_votes|vine|verified_purchase|     review_headline|         review_body|review_date|\n",
      "+-----------+-----------+--------------+----------+--------------+--------------------+----------------+-----------+-------------+-----------+----+-----------------+--------------------+--------------------+-----------+\n",
      "|         US|   33680700|R38H3UO1J190GI|B00HUEBGMU|      19067902|Vidpro XM-L Wired...|          Camera|          5|            1|          1|   N|                Y|Good mic at a Goo...|I will look past ...| 2015-08-31|\n",
      "|         US|   36700181|R222VYJL5K5IRS|B00GUZEZL4|     472875794|Waterproof Camera...|          Camera|          5|            0|          0|   N|                Y|    Excellent value!|These float wrist...| 2015-08-31|\n",
      "|         US|   35272750|R1OD3T3Q042LUQ|B00GVMLPT6|     269896170|FotoTech Male to ...|          Camera|          2|            0|          0|   N|                Y|           Two Stars|im not happy, the...| 2015-08-31|\n",
      "|         US|   22125044|R2DTIYMTXQPAJV|B0046C8BWM|     992311641|57\" Tripod Kit Fo...|          Camera|          1|            0|          0|   N|                Y|  Don't get suckered|The second or thi...| 2015-08-31|\n",
      "|         US|   35386096| RVWGBVMVBOL0F|B00JTE50US|     472875794|Waterproof Camera...|          Camera|          5|            0|          0|   N|                Y|A Must Have For W...|I purchased this ...| 2015-08-31|\n",
      "|         US|   49652941|R39WDE2I4403ET|B0036SYSJ2|     865953607|NB-4L Battery Cha...|          Camera|          5|            0|          0|   N|                Y|Great charger at ...|Great charger at ...| 2015-08-31|\n",
      "|         US|   15899329|R3VBAJTKZG737O|B0046V58Y2|     350358427|Wasabi Power Batt...|          Camera|          3|            0|          1|   N|                Y|it works, but no ...|No power level in...| 2015-08-31|\n",
      "|         US|   46588192|R1A2KE1ZM4YHMC|B002GD8TQG|     827182344|Compact Battery C...|          Camera|          5|            0|          0|   N|                Y|          Five Stars|It is well worth ...| 2015-08-31|\n",
      "|         US|   47737813|R2HS9OJNBG15M2|B003G3QK4S|      32443880|Canon EF Lenses M...|          Camera|          5|            0|          0|   N|                Y|          Five Stars| Perfect for glasses| 2015-08-31|\n",
      "|         US|   52695798|R1K4S9FQ5PBX08|B00B2AFQJM|     395522893|STK's Canon NB-1L...|          Camera|          5|            0|          0|   N|                Y|pleased with purc...|Fast shipping, pl...| 2015-08-31|\n",
      "|         US|    1589319|R185ZLPNVU1QEJ|B00A8MP3GQ|     559200732|dCables Canon Pow...|          Camera|          1|            0|          0|   N|                Y|       not satisfied|The device didn't...| 2015-08-31|\n",
      "|         US|   51062094|R2CZG0P5IBBKSK|B00K899B9Y|     745499552|Canon EF-S 10-18m...|          Camera|          5|            0|          0|   N|                Y|A quality almost ...|Excellent quality...| 2015-08-31|\n",
      "|         US|   48181832|R29WPUKWMGA0N1|B005DECJBQ|     627916983|STK's Canon BP-51...|          Camera|          5|            1|          1|   N|                Y|... level then th...|Batteries are rat...| 2015-08-31|\n",
      "|         US|   34839788|R2OM6OYRFC1EX5|B000BNY64C|     853708552|STK's Canon BP-51...|          Camera|          1|            0|          0|   N|                Y|                Spam|Buyer Beware: Aft...| 2015-08-31|\n",
      "|         US|   16149682| R4WHEG7OAM53Q|B00CJZDL0K|     824612508|Canon EF-M 18-55m...|          Camera|          5|            2|          2|   N|                Y|I have used a num...|Very versatile le...| 2015-08-31|\n",
      "|         US|   25655216| RY2XS9IH8ELN1|B003Y60DZO|     644439368|Fotodiox Canon EO...|          Camera|          3|            0|          0|   N|                Y|Not good with 50 ...|I always expectin...| 2015-08-31|\n",
      "|         US|   41575582| RUOZXGD8TNGXM|B00EFILVQU|     692294792|  Canon 55-250mm STM|          Camera|          4|            0|          0|   N|                Y|          Four Stars|re-furbished- so ...| 2015-08-31|\n",
      "|         US|   25690164| R79FBV2Q9VS7O|B00M0QVOOS|     929881388|         Canon SX400|          Camera|          4|            0|          2|   N|                Y|... still learnin...|I am still learni...| 2015-08-31|\n",
      "|         US|   17049973|R2VQ49QLES7J8J|B01264T300|     585678645|Canon Selphy CP91...|          Camera|          4|            0|          0|   N|                Y|This is not the d...|This is not the d...| 2015-08-31|\n",
      "|         US|   14843187|R1NX9ZVFKUFSM2|B002ZIULPY|     105023975|NEEWER Digital Ca...|          Camera|          5|            1|          1|   N|                Y|Work great in my ...|Bought 2 of these...| 2015-08-31|\n",
      "+-----------+-----------+--------------+----------+--------------+--------------------+----------------+-----------+-------------+-----------+----+-----------------+--------------------+--------------------+-----------+\n",
      "only showing top 20 rows\n",
      "\n"
     ]
    }
   ],
   "source": [
    "# Create  dataframe for gopro \n",
    "canon_df = cleaned_df.where(col('product_title').like(\"%Canon%\"))\n",
    "canon_df.show(20)"
   ]
  },
  {
   "cell_type": "code",
   "execution_count": 17,
   "metadata": {
    "colab": {
     "base_uri": "https://localhost:8080/"
    },
    "id": "lZfkvzURuwpv",
    "outputId": "eddad73e-d59d-46e0-f8f3-d5d8c8428baf"
   },
   "outputs": [
    {
     "name": "stdout",
     "output_type": "stream",
     "text": [
      "+--------------+-----------+----------+--------------+-----------+\n",
      "|     review_id|customer_id|product_id|product_parent|review_date|\n",
      "+--------------+-----------+----------+--------------+-----------+\n",
      "|R1NBG94582SJE2|    2975964|B00I01JQJM|     860486164| 2015-08-31|\n",
      "|R273DCA6Y0H9V7|   23526356|B00TCO0ZAA|     292641483| 2015-08-31|\n",
      "| RQVOXO7WUOFK6|   52764145|B00B7733E0|      75825744| 2015-08-31|\n",
      "|R1KWKSF21PO6HO|   47348933|B006ZN4U34|     789352955| 2015-08-31|\n",
      "|R38H3UO1J190GI|   33680700|B00HUEBGMU|      19067902| 2015-08-31|\n",
      "+--------------+-----------+----------+--------------+-----------+\n",
      "only showing top 5 rows\n",
      "\n"
     ]
    }
   ],
   "source": [
    "#Create dataframes for import into PostgreSQL\n",
    "review_df = cleaned_df.select(['review_id', 'customer_id', 'product_id', 'product_parent', 'review_date'])\n",
    "review_df.show(5)"
   ]
  },
  {
   "cell_type": "code",
   "execution_count": null,
   "metadata": {
    "id": "8XAFRWHMp2Hc"
   },
   "outputs": [],
   "source": [
    "# Configure settings for RDS\n",
    "mode = \"append\"\n",
    "jdbc_url=\"jdbc:postgresql://<connection string>:5432/<database-name>\"\n",
    "config = {\"user\":\"postgres\", \n",
    "          \"password\": \"<password>\", \n",
    "          \"driver\":\"org.postgresql.Driver\"}"
   ]
  },
  {
   "cell_type": "code",
   "execution_count": null,
   "metadata": {
    "id": "q0g_wC8kuMzq"
   },
   "outputs": [],
   "source": []
  },
  {
   "cell_type": "code",
   "execution_count": null,
   "metadata": {
    "id": "3IOlW8P2p2KP"
   },
   "outputs": [],
   "source": [
    "# Write DataFrame to active_user table in RDS\n",
    "\n",
    "gopro_df.write.jdbc(url=jdbc_url, table='gopro', mode=mode, properties=config)\n",
    "canon_df.write.jdbc(url=jdbc_url, table='canon', mode=mode, properties=config)\n",
    "nikon_df.write.jdbc(url=jdbc_url, table='nikon', mode=mode, properties=config)\n",
    "sony_df.write.jdbc(url=jdbc_url, table='sony', mode=mode, properties=config)\n",
    "review_df.write.jdbc(url=jdbc_url, table='review', mode=mode, properties=config)\n",
    "products_df.write.jdbc(url=jdbc_url, table='products', mode=mode, properties=config)"
   ]
  }
 ],
 "metadata": {
  "colab": {
   "collapsed_sections": [],
   "name": "Untitled4.ipynb",
   "provenance": []
  },
  "kernelspec": {
   "display_name": "Python 3 (ipykernel)",
   "language": "python",
   "name": "python3"
  },
  "language_info": {
   "codemirror_mode": {
    "name": "ipython",
    "version": 3
   },
   "file_extension": ".py",
   "mimetype": "text/x-python",
   "name": "python",
   "nbconvert_exporter": "python",
   "pygments_lexer": "ipython3",
   "version": "3.8.10"
  }
 },
 "nbformat": 4,
 "nbformat_minor": 4
}
